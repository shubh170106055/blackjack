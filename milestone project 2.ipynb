{
 "cells": [
  {
   "cell_type": "code",
   "execution_count": 1,
   "metadata": {},
   "outputs": [],
   "source": [
    "#BLACKJACK"
   ]
  },
  {
   "cell_type": "code",
   "execution_count": 2,
   "metadata": {},
   "outputs": [],
   "source": [
    "#SPADE\n",
    "sa = 11\n",
    "s2 = 2\n",
    "s3 = 3\n",
    "s4 = 4\n",
    "s5 = 5\n",
    "s6 = 6\n",
    "s7 = 7\n",
    "s8 = 8\n",
    "s9 = 9\n",
    "s10 =10\n",
    "sj = 10\n",
    "sq = 10\n",
    "sk = 10"
   ]
  },
  {
   "cell_type": "code",
   "execution_count": 3,
   "metadata": {},
   "outputs": [],
   "source": [
    "#HEART\n",
    "ha = 11\n",
    "h2 = 2\n",
    "h3 = 3\n",
    "h4 = 4\n",
    "h5 = 5\n",
    "h6 = 6\n",
    "h7 = 7\n",
    "h8 = 8\n",
    "h9 = 9\n",
    "h10 =10\n",
    "hj = 10\n",
    "hq = 10\n",
    "hk = 10"
   ]
  },
  {
   "cell_type": "code",
   "execution_count": 4,
   "metadata": {},
   "outputs": [],
   "source": [
    "#DIAMOND\n",
    "da = 11\n",
    "d2 = 2\n",
    "d3 = 3\n",
    "d4 = 4\n",
    "d5 = 5\n",
    "d6 = 6\n",
    "d7 = 7\n",
    "d8 = 8\n",
    "d9 = 9\n",
    "d10 =10\n",
    "dj = 10\n",
    "dq = 10\n",
    "dk = 10"
   ]
  },
  {
   "cell_type": "code",
   "execution_count": 5,
   "metadata": {},
   "outputs": [],
   "source": [
    "#CLUB\n",
    "ca = 11\n",
    "c2 = 2\n",
    "c3 = 3\n",
    "c4 = 4\n",
    "c5 = 5\n",
    "c6 = 6\n",
    "c7 = 7\n",
    "c8 = 8\n",
    "c9 = 9\n",
    "c10 =10\n",
    "cj = 10\n",
    "cq = 10\n",
    "ck = 10"
   ]
  },
  {
   "cell_type": "code",
   "execution_count": 6,
   "metadata": {},
   "outputs": [],
   "source": [
    "l = [ca,da,ha,sa,cj,dj,hj,sj,cq,dq,hq,sq,ck,sk,dk,hk,s2,s3,s4,s5,s6,s7,s8,s9,s10,d2,d3,d4,d5,d6,d7,d8,d9,d10,h2,h3,h4,h5,h6,h7,h8,h9,h10,c2,c3,c4,c5,c6,c7,c8,c9,c10]"
   ]
  },
  {
   "cell_type": "code",
   "execution_count": null,
   "metadata": {},
   "outputs": [],
   "source": [
    "\n",
    "                    \n",
    "                "
   ]
  },
  {
   "cell_type": "code",
   "execution_count": 7,
   "metadata": {},
   "outputs": [],
   "source": [
    "import random\n",
    "n = 0\n",
    "d = 0\n",
    "p = 0\n",
    "t = 0\n",
    "k = 0\n",
    "def BLACKJACK():\n",
    "    global n\n",
    "    global d\n",
    "    global p\n",
    "    global t\n",
    "    global k\n",
    "    print ('DEALER : How much u want to bet ? ')\n",
    "    bet_amount = int(input(' ' ))\n",
    "    class player():\n",
    "        def __init__(self , bet = bet_amount):\n",
    "            self.bet = bet\n",
    "        def bust(self):\n",
    "            global k\n",
    "            amount = 0\n",
    "            k = 1\n",
    "            print('U lost all the bet amount = {}'.format(amount))\n",
    "        def blackjack(self):\n",
    "            global k\n",
    "            amount = self.bet*1.5 + self.bet\n",
    "            k = 1\n",
    "            print('congrats ur balance is {}'.format(amount))\n",
    "        def win(self):\n",
    "            global k\n",
    "            amount = 2*self.bet\n",
    "            k = 1\n",
    "            print('You Won ur balance is {}'.format(amount))\n",
    "    player1 = player()\n",
    "    print('Ur bet amount is {}'.format(player1.bet))\n",
    "    from random import shuffle \n",
    "    random.shuffle(l)\n",
    "    def ask():\n",
    "        global k\n",
    "        global t\n",
    "        if k != 1 and t==0:\n",
    "            ask = input('stand or hit: ')\n",
    "            if ask == 'stand':\n",
    "                while t!= 1:\n",
    "                    dealerscore()\n",
    "                wincheck()\n",
    "            elif ask == 'hit':\n",
    "                playerscore()\n",
    "                if p < 21:\n",
    "                    dealerscore()\n",
    "                    if d > 21:\n",
    "                        wincheck()\n",
    "                elif p > 21:\n",
    "                    wincheck()\n",
    "        elif k == 1 and t==1 :\n",
    "            wincheck()\n",
    "    def dealerscore():\n",
    "        global d\n",
    "        global t\n",
    "        global n\n",
    "        if d < 17 :\n",
    "            d = d+ l[n]\n",
    "            if d > 21 and l[n]==11:\n",
    "                d = d - 10\n",
    "            n = n + 1\n",
    "            print(n)\n",
    "            print('score of dealer : {}'.format(d))\n",
    "        elif d >= 17 :\n",
    "            t = 1\n",
    "            d = d\n",
    "            n = n\n",
    "            print(n)\n",
    "        elif d > 21 :\n",
    "            player1.win()\n",
    "    def playerscore():\n",
    "        global p\n",
    "        global n\n",
    "        global t\n",
    "        if p < 21 :\n",
    "            p = p + l[n]\n",
    "            if p > 21 and l[n]==11:\n",
    "                p = p - 10\n",
    "            n = n + 1\n",
    "            print(n)\n",
    "            print('player score is : {}'.format(p))\n",
    "        elif p > 21 :\n",
    "            p = p\n",
    "            n = n\n",
    "            t = 1\n",
    "            player1.bust()\n",
    "            print(n)    \n",
    "    def wincheck():\n",
    "        global p \n",
    "        global d\n",
    "        if d > 21 and p <= 21 :\n",
    "            player1.win()\n",
    "        elif p > 21 and d >= 17 and d <= 21 :\n",
    "            player1.bust()\n",
    "        elif d >= 17 and d <= 21 and p <= 21 and p > d:\n",
    "            player1.win()\n",
    "        elif d >= 17 and d <= 21 and p <= 21 and p < d:\n",
    "            player1.bust()\n",
    "        elif p > 21 and d <= 17 :\n",
    "            player1.bust()\n",
    "    playerscore()\n",
    "    dealerscore()\n",
    "    playerscore()\n",
    "    dealerscore()\n",
    "    log  = 0\n",
    "    while log < 10 :\n",
    "        if k != 1:\n",
    "            ask()\n",
    "        elif k == 1:\n",
    "            break\n",
    "    print('The game is over') \n",
    "    n =0\n",
    "    d=0\n",
    "    p=0\n",
    "    t=0\n",
    "    k=0\n",
    "                \n",
    "        \n",
    "        "
   ]
  },
  {
   "cell_type": "code",
   "execution_count": 8,
   "metadata": {},
   "outputs": [
    {
     "name": "stdout",
     "output_type": "stream",
     "text": [
      "DEALER : How much u want to bet ? \n",
      " 1000\n",
      "Ur bet amount is 1000\n",
      "1\n",
      "player score is : 5\n",
      "2\n",
      "score of dealer : 10\n",
      "3\n",
      "player score is : 15\n",
      "4\n",
      "score of dealer : 20\n",
      "stand or hit: hit\n",
      "5\n",
      "player score is : 21\n",
      "stand or hit: stand\n",
      "5\n",
      "You Won ur balance is 2000\n",
      "The game is over\n"
     ]
    }
   ],
   "source": [
    "BLACKJACK()"
   ]
  },
  {
   "cell_type": "code",
   "execution_count": 9,
   "metadata": {},
   "outputs": [
    {
     "name": "stdout",
     "output_type": "stream",
     "text": [
      "DEALER : How much u want to bet ? \n",
      " 100\n",
      "Ur bet amount is 100\n",
      "1\n",
      "player score is : 5\n",
      "2\n",
      "score of dealer : 11\n",
      "3\n",
      "player score is : 13\n",
      "4\n",
      "score of dealer : 15\n",
      "stand or hit: hit\n",
      "5\n",
      "player score is : 17\n",
      "6\n",
      "score of dealer : 24\n",
      "You Won ur balance is 200\n",
      "The game is over\n"
     ]
    }
   ],
   "source": [
    "BLACKJACK()"
   ]
  },
  {
   "cell_type": "code",
   "execution_count": 11,
   "metadata": {},
   "outputs": [],
   "source": [
    "d = {'k1':1,'k2':2}"
   ]
  },
  {
   "cell_type": "code",
   "execution_count": 12,
   "metadata": {},
   "outputs": [
    {
     "name": "stdout",
     "output_type": "stream",
     "text": [
      "k1\n",
      "k2\n"
     ]
    }
   ],
   "source": [
    "for item in d:\n",
    "    print(item)"
   ]
  },
  {
   "cell_type": "code",
   "execution_count": null,
   "metadata": {},
   "outputs": [],
   "source": []
  }
 ],
 "metadata": {
  "kernelspec": {
   "display_name": "Python 3",
   "language": "python",
   "name": "python3"
  },
  "language_info": {
   "codemirror_mode": {
    "name": "ipython",
    "version": 3
   },
   "file_extension": ".py",
   "mimetype": "text/x-python",
   "name": "python",
   "nbconvert_exporter": "python",
   "pygments_lexer": "ipython3",
   "version": "3.7.3"
  }
 },
 "nbformat": 4,
 "nbformat_minor": 2
}
